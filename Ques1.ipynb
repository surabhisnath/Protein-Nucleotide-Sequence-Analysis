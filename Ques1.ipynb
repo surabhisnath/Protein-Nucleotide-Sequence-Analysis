{
 "cells": [
  {
   "cell_type": "code",
   "execution_count": 2,
   "metadata": {},
   "outputs": [],
   "source": [
    "#Dot plot"
   ]
  },
  {
   "cell_type": "code",
   "execution_count": 3,
   "metadata": {},
   "outputs": [],
   "source": [
    "import numpy as np\n",
    "import cv2"
   ]
  },
  {
   "cell_type": "code",
   "execution_count": 4,
   "metadata": {},
   "outputs": [],
   "source": [
    "#Given a sequence, find dotplot matrix and find repeats and inverse repeats"
   ]
  },
  {
   "cell_type": "code",
   "execution_count": 5,
   "metadata": {},
   "outputs": [],
   "source": [
    "def evalmat(seq, mat, img):\n",
    "    for i in range(len(seq)):\n",
    "        for j in range(len(seq)):\n",
    "            if(seq[i] == seq[j] and i != j):\n",
    "                mat[i,j] = 1\n",
    "                img[i,j] = 255"
   ]
  },
  {
   "cell_type": "code",
   "execution_count": 6,
   "metadata": {},
   "outputs": [],
   "source": [
    "def check4ones(arr):\n",
    "    num = 0\n",
    "    flag = False\n",
    "    for i in range(len(arr)):\n",
    "        #print(arr[i])\n",
    "        if flag == False and arr[i] == 1:\n",
    "            #print(\"hi1\")\n",
    "            flag = True\n",
    "            cnt = 1\n",
    "            continue\n",
    "        \n",
    "        if flag == True and i == len(arr) - 1 and arr[i] == 1:\n",
    "            cnt += 1\n",
    "            #print(\"hi2\")\n",
    "            flag = False\n",
    "            #print(cnt)\n",
    "            if cnt >= 4:\n",
    "                num += 1\n",
    "            continue\n",
    "        \n",
    "        if flag == True and arr[i] == 0:\n",
    "            #print(\"hi3\")\n",
    "            flag = False\n",
    "            #print(cnt)\n",
    "            if cnt >= 4:\n",
    "                num += 1\n",
    "            continue\n",
    "            \n",
    "        if flag == True and arr[i] == 1:\n",
    "            #print(\"hi4\")\n",
    "            cnt += 1\n",
    "            continue\n",
    "    return num"
   ]
  },
  {
   "cell_type": "code",
   "execution_count": 7,
   "metadata": {},
   "outputs": [],
   "source": [
    "def computerepeats(mat):\n",
    "    ans = 0\n",
    "    for i in range(len(mat) - 1):\n",
    "        arr = []\n",
    "        for j in range(i + 1):\n",
    "            arr.append(mat[len(mat) - (j + 1), i - j])\n",
    "        #print(arr)\n",
    "        ans += check4ones(arr)\n",
    "    \n",
    "    return ans"
   ]
  },
  {
   "cell_type": "code",
   "execution_count": 8,
   "metadata": {},
   "outputs": [],
   "source": [
    "def computeinvrepeats(mat):\n",
    "    ans = 0\n",
    "    \n",
    "    for k in range(len(mat)):\n",
    "        arr = []\n",
    "        arr.append(mat[k, k])\n",
    "        i = k\n",
    "        j = k\n",
    "        while(i + 1 <= len(mat) - 1 and j - 1>= 0):\n",
    "            i = i + 1\n",
    "            j = j - 1\n",
    "            arr.append(mat[i, j])\n",
    "        #print(arr)\n",
    "        ans += check4ones(arr)\n",
    "\n",
    "    for k in range(len(mat) - 1):\n",
    "        arr = []\n",
    "        arr.append(mat[k + 1, k])\n",
    "        i = k + 1\n",
    "        j = k\n",
    "        while(i + 1 <= len(mat) - 1 and j - 1>= 0):\n",
    "            i = i + 1\n",
    "            j = j - 1\n",
    "            arr.append(mat[i, j])\n",
    "        #print(arr)\n",
    "        ans += check4ones(arr)\n",
    "    return ans"
   ]
  },
  {
   "cell_type": "code",
   "execution_count": 17,
   "metadata": {},
   "outputs": [],
   "source": [
    "seq = \"ATGTGTGTCATGCTACGGTCAGGGGTGCATGCTACGTCGTGTCATGTACTG\"\n",
    "#seq = \"ABCDABCDLABCD\""
   ]
  },
  {
   "cell_type": "code",
   "execution_count": 18,
   "metadata": {},
   "outputs": [],
   "source": [
    "mat = np.zeros((len(seq), len(seq)))\n",
    "img = np.zeros((len(seq), len(seq)))"
   ]
  },
  {
   "cell_type": "code",
   "execution_count": 19,
   "metadata": {},
   "outputs": [],
   "source": [
    "evalmat(seq, mat, img)"
   ]
  },
  {
   "cell_type": "code",
   "execution_count": 20,
   "metadata": {},
   "outputs": [],
   "source": [
    "# mat = [[0., 0., 0., 0., 0., 1., 0., 0., 0., 0.],\n",
    "#        [1., 0., 0., 0., 0., 0., 1., 0., 0., 0.],\n",
    "#        [0., 1., 0., 0., 0., 0., 0., 1., 0., 0.],\n",
    "#        [0., 0., 1., 0., 0., 0., 0., 0., 1., 0.],\n",
    "#        [0., 0., 0., 1., 0., 0., 0., 0., 0., 1.],\n",
    "#        [1., 0., 0., 0., 0., 0., 0., 0., 0., 0.],\n",
    "#        [0., 1., 0., 1., 0., 1., 0., 0., 0., 0.],\n",
    "#        [0., 0., 1., 0., 0., 0., 1., 0., 0., 0.],\n",
    "#        [0., 1., 0., 1., 0., 0., 0., 1., 0., 0.],\n",
    "#        [1., 0., 0., 0., 1., 0., 0., 0., 1., 0.]]\n",
    "# mat = np.array(mat)"
   ]
  },
  {
   "cell_type": "code",
   "execution_count": 21,
   "metadata": {},
   "outputs": [
    {
     "name": "stdout",
     "output_type": "stream",
     "text": [
      "Number of repeats is 8\n"
     ]
    }
   ],
   "source": [
    "print(\"Number of repeats is\", computerepeats(mat))"
   ]
  },
  {
   "cell_type": "code",
   "execution_count": 22,
   "metadata": {},
   "outputs": [
    {
     "name": "stdout",
     "output_type": "stream",
     "text": [
      "Number of inverse repeats is 12\n"
     ]
    }
   ],
   "source": [
    "print(\"Number of inverse repeats is\", computeinvrepeats(mat))"
   ]
  }
 ],
 "metadata": {
  "kernelspec": {
   "display_name": "Python 3",
   "language": "python",
   "name": "python3"
  },
  "language_info": {
   "codemirror_mode": {
    "name": "ipython",
    "version": 3
   },
   "file_extension": ".py",
   "mimetype": "text/x-python",
   "name": "python",
   "nbconvert_exporter": "python",
   "pygments_lexer": "ipython3",
   "version": "3.5.2"
  }
 },
 "nbformat": 4,
 "nbformat_minor": 2
}
